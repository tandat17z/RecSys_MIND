{
 "cells": [
  {
   "cell_type": "code",
   "execution_count": 4,
   "metadata": {},
   "outputs": [
    {
     "name": "stdout",
     "output_type": "stream",
     "text": [
      "4 U593596 11/12/2019 12:24:09 PM\n",
      "N31043 N39592 N4104 N8223 N114581 N92747 N12070 N61321 N40052 N50176 N101119 N76810 N37509\n",
      "N38902-0 N76434-0 N71593-0 N100073-0 N108736-0 N3061-0 N89658-0 N33030-0 N110473-0 N125655-0 N100206-0 N37544-0 N60370-0 N59935-0 N114935-1 N114135-0 N46262-0 N61065-0 N46329-0 N27368-0 N84381-0 N83412-0 N2624-0 N34269-0 N19053-0 N115724-0 N20990-0 N100380-0 N2074-0 N128367-0 N8719-0 N109344-0 N33078-0 N100539-0 N119665-0 N7937-0 N121580-0 N108581-0 N92498-0 N18947-0 N109642-0 N79048-0 N47277-0 N53225-0 N41710-0 N122819-0 N30417-0 N79044-0 N76539-0 N57763-0 N54239-0 N62203-0\n",
      "\n"
     ]
    }
   ],
   "source": [
    "with open('../MIND-200k/train/behaviors.tsv', 'r', encoding='utf-8') as train_behaviors_f:\n",
    "    for line in train_behaviors_f:\n",
    "        impression_ID, user_ID, time, history, impressions = line.split('\\t')\n",
    "        print(impression_ID, user_ID, time)\n",
    "        print(history)\n",
    "        print(impressions)\n",
    "        break"
   ]
  },
  {
   "cell_type": "code",
   "execution_count": 5,
   "metadata": {},
   "outputs": [
    {
     "name": "stdout",
     "output_type": "stream",
     "text": [
      "N88753 lifestyle lifestyleroyals\n",
      "[{\"Label\": \"Prince Philip, Duke of Edinburgh\", \"Type\": \"P\", \"WikidataId\": \"Q80976\", \"Confidence\": 1.0, \"OccurrenceOffsets\": [48], \"SurfaceForms\": [\"Prince Philip\"]}, {\"Label\": \"Charles, Prince of Wales\", \"Type\": \"P\", \"WikidataId\": \"Q43274\", \"Confidence\": 1.0, \"OccurrenceOffsets\": [28], \"SurfaceForms\": [\"Prince Charles\"]}, {\"Label\": \"Elizabeth II\", \"Type\": \"P\", \"WikidataId\": \"Q9682\", \"Confidence\": 0.97, \"OccurrenceOffsets\": [11], \"SurfaceForms\": [\"Queen Elizabeth\"]}]\n",
      "[]\n",
      "\n"
     ]
    }
   ],
   "source": [
    "with open('../MIND-200k/train/news.tsv', 'r', encoding='utf-8') as news_f:\n",
    "    for line in news_f:\n",
    "        news_ID, category, subCategory, title, abstract, _, title_entities, abstract_entities = line.split('\\t')\n",
    "        print(news_ID, category, subCategory)\n",
    "        print(title_entities)\n",
    "        print(abstract_entities)\n",
    "        break"
   ]
  }
 ],
 "metadata": {
  "kernelspec": {
   "display_name": "base",
   "language": "python",
   "name": "python3"
  },
  "language_info": {
   "codemirror_mode": {
    "name": "ipython",
    "version": 3
   },
   "file_extension": ".py",
   "mimetype": "text/x-python",
   "name": "python",
   "nbconvert_exporter": "python",
   "pygments_lexer": "ipython3",
   "version": "3.12.7"
  }
 },
 "nbformat": 4,
 "nbformat_minor": 2
}
